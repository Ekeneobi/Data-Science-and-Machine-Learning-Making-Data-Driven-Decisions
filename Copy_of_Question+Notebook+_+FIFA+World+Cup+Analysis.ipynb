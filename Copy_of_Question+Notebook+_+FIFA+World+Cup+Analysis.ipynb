{
  "cells": [
    {
      "cell_type": "markdown",
      "metadata": {
        "id": "view-in-github",
        "colab_type": "text"
      },
      "source": [
        "<a href=\"https://colab.research.google.com/github/Ekeneobi/Data-Science-and-Machine-Learning-Making-Data-Driven-Decisions/blob/main/Copy_of_Question%2BNotebook%2B_%2BFIFA%2BWorld%2BCup%2BAnalysis.ipynb\" target=\"_parent\"><img src=\"https://colab.research.google.com/assets/colab-badge.svg\" alt=\"Open In Colab\"/></a>"
      ]
    },
    {
      "cell_type": "markdown",
      "metadata": {
        "id": "lUDEOCM7a84o"
      },
      "source": [
        "# Practice Project - FIFA World Cup Analysis\n",
        "\n",
        "---------------\n",
        "## Context\n",
        "---------------\n",
        "\n",
        "The FIFA World Cup, often simply called the World Cup, is an international association football competition contested by the senior men's national teams of the members of the Fédération Internationale de Football Association (FIFA), the sport's global governing body. The championship is contested every four years since the inaugural tournament in 1930, except in 1942 and 1946 when it was not held because of the Second World War. It is one of the most prestigious and important trophies in the sport of football.\n",
        "\n",
        "-----------------\n",
        "## Objective\n",
        "-----------------\n",
        "\n",
        "A new football club named 'Brussels United FC' has just been inaugurated. As a member of this club, you have been assigned a task to carry analysis of the world cup data.\n",
        "\n",
        "-------------------------\n",
        "## Data Dictionary\n",
        "-------------------------\n",
        "\n",
        "The World Cups dataset has the following information about all the World Cups in history till 2014.\n",
        "\n",
        "**Year**: Year in which the world cup was held\n",
        "    \n",
        "**Country**: Country where the world cup was held\n",
        "    \n",
        "**Winner**: Team that won the world cup\n",
        "    \n",
        "**Runners-Up**: Team that came second\n",
        "    \n",
        "**Third**: Team that came third\n",
        "    \n",
        "**Fourth**: Team that came fourth\n",
        "    \n",
        "**GoalsScored**: Total goals scored in the world cup\n",
        "    \n",
        "**QualifiedTeams**: Number of teams that qualified for the world cup\n",
        "    \n",
        "**MatchesPlayed**: Total matches played in the world cup\n",
        "    \n",
        "**Attendance**: Total attendance in the world cup"
      ]
    },
    {
      "cell_type": "markdown",
      "metadata": {
        "id": "lOcqo43Sa84u"
      },
      "source": [
        "## Q 1: Import the necessary libraries and briefly explain the use of each library"
      ]
    },
    {
      "cell_type": "code",
      "execution_count": null,
      "metadata": {
        "id": "aHF8GqMHa84v"
      },
      "outputs": [],
      "source": [
        "# import appropriate library name\n",
        "\n",
        "import numpy as np\n",
        "import pandas as pd\n",
        "\n",
        "import seaborn as sns\n",
        "import matplotlib.pyplot as plt\n",
        "%matplotlib inline"
      ]
    },
    {
      "cell_type": "markdown",
      "metadata": {
        "id": "gIHphZnSa84x"
      },
      "source": [
        "#### Write your Answer here: "
      ]
    },
    {
      "cell_type": "raw",
      "metadata": {
        "id": "QN_iGoBfa84x"
      },
      "source": [
        "Ans 1: pandas , mathplotlib.pyplot"
      ]
    },
    {
      "cell_type": "markdown",
      "metadata": {
        "id": "FBcORmAMa84y"
      },
      "source": [
        "## Q 2: Which library can be used to read the WorldCups dataset? Read the dataset."
      ]
    },
    {
      "cell_type": "code",
      "execution_count": null,
      "metadata": {
        "id": "N7eubtOJa84y"
      },
      "outputs": [],
      "source": [
        "# write the appropriate function name\n",
        "\n",
        "fifa=pd.read_csv(\"WorldCups.csv\")"
      ]
    },
    {
      "cell_type": "markdown",
      "metadata": {
        "id": "uuRjQGLqa84z"
      },
      "source": [
        "#### Write your Answer here: \n"
      ]
    },
    {
      "cell_type": "raw",
      "metadata": {
        "id": "cZe2siSia840"
      },
      "source": [
        "Ans 2:"
      ]
    },
    {
      "cell_type": "markdown",
      "metadata": {
        "id": "hkg0ON_ha840"
      },
      "source": [
        "## Q3. Show the last 10 records of the dataset. How many columns are there?"
      ]
    },
    {
      "cell_type": "code",
      "execution_count": null,
      "metadata": {
        "id": "6chWiU6ca841",
        "colab": {
          "base_uri": "https://localhost:8080/",
          "height": 363
        },
        "outputId": "e9c403aa-9fcf-4187-b6fd-4f4dc273d4c0"
      },
      "outputs": [
        {
          "output_type": "execute_result",
          "data": {
            "text/plain": [
              "    Year       Country      Winner   Runners-Up        Third          Fourth  \\\n",
              "10  1978     Argentina   Argentina  Netherlands       Brazil           Italy   \n",
              "11  1982         Spain       Italy   Germany FR       Poland          France   \n",
              "12  1986        Mexico   Argentina   Germany FR       France         Belgium   \n",
              "13  1990         Italy  Germany FR    Argentina        Italy         England   \n",
              "14  1994           USA      Brazil        Italy       Sweden        Bulgaria   \n",
              "15  1998        France      France       Brazil      Croatia     Netherlands   \n",
              "16  2002   Korea/Japan      Brazil      Germany       Turkey  Korea Republic   \n",
              "17  2006       Germany       Italy       France      Germany        Portugal   \n",
              "18  2010  South Africa       Spain  Netherlands      Germany         Uruguay   \n",
              "19  2014        Brazil     Germany    Argentina  Netherlands          Brazil   \n",
              "\n",
              "    GoalsScored  QualifiedTeams  MatchesPlayed Attendance  \n",
              "10          102              16             38  1.545.791  \n",
              "11          146              24             52  2.109.723  \n",
              "12          132              24             52  2.394.031  \n",
              "13          115              24             52  2.516.215  \n",
              "14          141              24             52  3.587.538  \n",
              "15          171              32             64  2.785.100  \n",
              "16          161              32             64  2.705.197  \n",
              "17          147              32             64  3.359.439  \n",
              "18          145              32             64  3.178.856  \n",
              "19          171              32             64  3.386.810  "
            ],
            "text/html": [
              "\n",
              "  <div id=\"df-74d1f96d-9822-4201-8fb7-ad11e4e76fa8\">\n",
              "    <div class=\"colab-df-container\">\n",
              "      <div>\n",
              "<style scoped>\n",
              "    .dataframe tbody tr th:only-of-type {\n",
              "        vertical-align: middle;\n",
              "    }\n",
              "\n",
              "    .dataframe tbody tr th {\n",
              "        vertical-align: top;\n",
              "    }\n",
              "\n",
              "    .dataframe thead th {\n",
              "        text-align: right;\n",
              "    }\n",
              "</style>\n",
              "<table border=\"1\" class=\"dataframe\">\n",
              "  <thead>\n",
              "    <tr style=\"text-align: right;\">\n",
              "      <th></th>\n",
              "      <th>Year</th>\n",
              "      <th>Country</th>\n",
              "      <th>Winner</th>\n",
              "      <th>Runners-Up</th>\n",
              "      <th>Third</th>\n",
              "      <th>Fourth</th>\n",
              "      <th>GoalsScored</th>\n",
              "      <th>QualifiedTeams</th>\n",
              "      <th>MatchesPlayed</th>\n",
              "      <th>Attendance</th>\n",
              "    </tr>\n",
              "  </thead>\n",
              "  <tbody>\n",
              "    <tr>\n",
              "      <th>10</th>\n",
              "      <td>1978</td>\n",
              "      <td>Argentina</td>\n",
              "      <td>Argentina</td>\n",
              "      <td>Netherlands</td>\n",
              "      <td>Brazil</td>\n",
              "      <td>Italy</td>\n",
              "      <td>102</td>\n",
              "      <td>16</td>\n",
              "      <td>38</td>\n",
              "      <td>1.545.791</td>\n",
              "    </tr>\n",
              "    <tr>\n",
              "      <th>11</th>\n",
              "      <td>1982</td>\n",
              "      <td>Spain</td>\n",
              "      <td>Italy</td>\n",
              "      <td>Germany FR</td>\n",
              "      <td>Poland</td>\n",
              "      <td>France</td>\n",
              "      <td>146</td>\n",
              "      <td>24</td>\n",
              "      <td>52</td>\n",
              "      <td>2.109.723</td>\n",
              "    </tr>\n",
              "    <tr>\n",
              "      <th>12</th>\n",
              "      <td>1986</td>\n",
              "      <td>Mexico</td>\n",
              "      <td>Argentina</td>\n",
              "      <td>Germany FR</td>\n",
              "      <td>France</td>\n",
              "      <td>Belgium</td>\n",
              "      <td>132</td>\n",
              "      <td>24</td>\n",
              "      <td>52</td>\n",
              "      <td>2.394.031</td>\n",
              "    </tr>\n",
              "    <tr>\n",
              "      <th>13</th>\n",
              "      <td>1990</td>\n",
              "      <td>Italy</td>\n",
              "      <td>Germany FR</td>\n",
              "      <td>Argentina</td>\n",
              "      <td>Italy</td>\n",
              "      <td>England</td>\n",
              "      <td>115</td>\n",
              "      <td>24</td>\n",
              "      <td>52</td>\n",
              "      <td>2.516.215</td>\n",
              "    </tr>\n",
              "    <tr>\n",
              "      <th>14</th>\n",
              "      <td>1994</td>\n",
              "      <td>USA</td>\n",
              "      <td>Brazil</td>\n",
              "      <td>Italy</td>\n",
              "      <td>Sweden</td>\n",
              "      <td>Bulgaria</td>\n",
              "      <td>141</td>\n",
              "      <td>24</td>\n",
              "      <td>52</td>\n",
              "      <td>3.587.538</td>\n",
              "    </tr>\n",
              "    <tr>\n",
              "      <th>15</th>\n",
              "      <td>1998</td>\n",
              "      <td>France</td>\n",
              "      <td>France</td>\n",
              "      <td>Brazil</td>\n",
              "      <td>Croatia</td>\n",
              "      <td>Netherlands</td>\n",
              "      <td>171</td>\n",
              "      <td>32</td>\n",
              "      <td>64</td>\n",
              "      <td>2.785.100</td>\n",
              "    </tr>\n",
              "    <tr>\n",
              "      <th>16</th>\n",
              "      <td>2002</td>\n",
              "      <td>Korea/Japan</td>\n",
              "      <td>Brazil</td>\n",
              "      <td>Germany</td>\n",
              "      <td>Turkey</td>\n",
              "      <td>Korea Republic</td>\n",
              "      <td>161</td>\n",
              "      <td>32</td>\n",
              "      <td>64</td>\n",
              "      <td>2.705.197</td>\n",
              "    </tr>\n",
              "    <tr>\n",
              "      <th>17</th>\n",
              "      <td>2006</td>\n",
              "      <td>Germany</td>\n",
              "      <td>Italy</td>\n",
              "      <td>France</td>\n",
              "      <td>Germany</td>\n",
              "      <td>Portugal</td>\n",
              "      <td>147</td>\n",
              "      <td>32</td>\n",
              "      <td>64</td>\n",
              "      <td>3.359.439</td>\n",
              "    </tr>\n",
              "    <tr>\n",
              "      <th>18</th>\n",
              "      <td>2010</td>\n",
              "      <td>South Africa</td>\n",
              "      <td>Spain</td>\n",
              "      <td>Netherlands</td>\n",
              "      <td>Germany</td>\n",
              "      <td>Uruguay</td>\n",
              "      <td>145</td>\n",
              "      <td>32</td>\n",
              "      <td>64</td>\n",
              "      <td>3.178.856</td>\n",
              "    </tr>\n",
              "    <tr>\n",
              "      <th>19</th>\n",
              "      <td>2014</td>\n",
              "      <td>Brazil</td>\n",
              "      <td>Germany</td>\n",
              "      <td>Argentina</td>\n",
              "      <td>Netherlands</td>\n",
              "      <td>Brazil</td>\n",
              "      <td>171</td>\n",
              "      <td>32</td>\n",
              "      <td>64</td>\n",
              "      <td>3.386.810</td>\n",
              "    </tr>\n",
              "  </tbody>\n",
              "</table>\n",
              "</div>\n",
              "      <button class=\"colab-df-convert\" onclick=\"convertToInteractive('df-74d1f96d-9822-4201-8fb7-ad11e4e76fa8')\"\n",
              "              title=\"Convert this dataframe to an interactive table.\"\n",
              "              style=\"display:none;\">\n",
              "        \n",
              "  <svg xmlns=\"http://www.w3.org/2000/svg\" height=\"24px\"viewBox=\"0 0 24 24\"\n",
              "       width=\"24px\">\n",
              "    <path d=\"M0 0h24v24H0V0z\" fill=\"none\"/>\n",
              "    <path d=\"M18.56 5.44l.94 2.06.94-2.06 2.06-.94-2.06-.94-.94-2.06-.94 2.06-2.06.94zm-11 1L8.5 8.5l.94-2.06 2.06-.94-2.06-.94L8.5 2.5l-.94 2.06-2.06.94zm10 10l.94 2.06.94-2.06 2.06-.94-2.06-.94-.94-2.06-.94 2.06-2.06.94z\"/><path d=\"M17.41 7.96l-1.37-1.37c-.4-.4-.92-.59-1.43-.59-.52 0-1.04.2-1.43.59L10.3 9.45l-7.72 7.72c-.78.78-.78 2.05 0 2.83L4 21.41c.39.39.9.59 1.41.59.51 0 1.02-.2 1.41-.59l7.78-7.78 2.81-2.81c.8-.78.8-2.07 0-2.86zM5.41 20L4 18.59l7.72-7.72 1.47 1.35L5.41 20z\"/>\n",
              "  </svg>\n",
              "      </button>\n",
              "      \n",
              "  <style>\n",
              "    .colab-df-container {\n",
              "      display:flex;\n",
              "      flex-wrap:wrap;\n",
              "      gap: 12px;\n",
              "    }\n",
              "\n",
              "    .colab-df-convert {\n",
              "      background-color: #E8F0FE;\n",
              "      border: none;\n",
              "      border-radius: 50%;\n",
              "      cursor: pointer;\n",
              "      display: none;\n",
              "      fill: #1967D2;\n",
              "      height: 32px;\n",
              "      padding: 0 0 0 0;\n",
              "      width: 32px;\n",
              "    }\n",
              "\n",
              "    .colab-df-convert:hover {\n",
              "      background-color: #E2EBFA;\n",
              "      box-shadow: 0px 1px 2px rgba(60, 64, 67, 0.3), 0px 1px 3px 1px rgba(60, 64, 67, 0.15);\n",
              "      fill: #174EA6;\n",
              "    }\n",
              "\n",
              "    [theme=dark] .colab-df-convert {\n",
              "      background-color: #3B4455;\n",
              "      fill: #D2E3FC;\n",
              "    }\n",
              "\n",
              "    [theme=dark] .colab-df-convert:hover {\n",
              "      background-color: #434B5C;\n",
              "      box-shadow: 0px 1px 3px 1px rgba(0, 0, 0, 0.15);\n",
              "      filter: drop-shadow(0px 1px 2px rgba(0, 0, 0, 0.3));\n",
              "      fill: #FFFFFF;\n",
              "    }\n",
              "  </style>\n",
              "\n",
              "      <script>\n",
              "        const buttonEl =\n",
              "          document.querySelector('#df-74d1f96d-9822-4201-8fb7-ad11e4e76fa8 button.colab-df-convert');\n",
              "        buttonEl.style.display =\n",
              "          google.colab.kernel.accessAllowed ? 'block' : 'none';\n",
              "\n",
              "        async function convertToInteractive(key) {\n",
              "          const element = document.querySelector('#df-74d1f96d-9822-4201-8fb7-ad11e4e76fa8');\n",
              "          const dataTable =\n",
              "            await google.colab.kernel.invokeFunction('convertToInteractive',\n",
              "                                                     [key], {});\n",
              "          if (!dataTable) return;\n",
              "\n",
              "          const docLinkHtml = 'Like what you see? Visit the ' +\n",
              "            '<a target=\"_blank\" href=https://colab.research.google.com/notebooks/data_table.ipynb>data table notebook</a>'\n",
              "            + ' to learn more about interactive tables.';\n",
              "          element.innerHTML = '';\n",
              "          dataTable['output_type'] = 'display_data';\n",
              "          await google.colab.output.renderOutput(dataTable, element);\n",
              "          const docLink = document.createElement('div');\n",
              "          docLink.innerHTML = docLinkHtml;\n",
              "          element.appendChild(docLink);\n",
              "        }\n",
              "      </script>\n",
              "    </div>\n",
              "  </div>\n",
              "  "
            ]
          },
          "metadata": {},
          "execution_count": 4
        }
      ],
      "source": [
        "# write the appropriate number in the function\n",
        "\n",
        "fifa.tail(10)"
      ]
    },
    {
      "cell_type": "markdown",
      "metadata": {
        "id": "sbuECXLea841"
      },
      "source": [
        "#### Write your Answer here: \n"
      ]
    },
    {
      "cell_type": "raw",
      "metadata": {
        "id": "bAH0mo7-a841"
      },
      "source": [
        "Ans 3: 10"
      ]
    },
    {
      "cell_type": "markdown",
      "metadata": {
        "id": "_XuES0E4a842"
      },
      "source": [
        "## Q4. Show the first 10 records of the dataset."
      ]
    },
    {
      "cell_type": "code",
      "execution_count": null,
      "metadata": {
        "id": "HIKjSxxqa842",
        "colab": {
          "base_uri": "https://localhost:8080/",
          "height": 363
        },
        "outputId": "5efac33f-b688-4bf5-9d43-ab3d09869ba8"
      },
      "outputs": [
        {
          "output_type": "execute_result",
          "data": {
            "text/plain": [
              "   Year      Country      Winner      Runners-Up       Third        Fourth  \\\n",
              "0  1930      Uruguay     Uruguay       Argentina         USA    Yugoslavia   \n",
              "1  1934        Italy       Italy  Czechoslovakia     Germany       Austria   \n",
              "2  1938       France       Italy         Hungary      Brazil        Sweden   \n",
              "3  1950       Brazil     Uruguay          Brazil      Sweden         Spain   \n",
              "4  1954  Switzerland  Germany FR         Hungary     Austria       Uruguay   \n",
              "5  1958       Sweden      Brazil          Sweden      France    Germany FR   \n",
              "6  1962        Chile      Brazil  Czechoslovakia       Chile    Yugoslavia   \n",
              "7  1966      England     England      Germany FR    Portugal  Soviet Union   \n",
              "8  1970       Mexico      Brazil           Italy  Germany FR       Uruguay   \n",
              "9  1974      Germany  Germany FR     Netherlands      Poland        Brazil   \n",
              "\n",
              "   GoalsScored  QualifiedTeams  MatchesPlayed Attendance  \n",
              "0           70              13             18    590.549  \n",
              "1           70              16             17    363.000  \n",
              "2           84              15             18    375.700  \n",
              "3           88              13             22  1.045.246  \n",
              "4          140              16             26    768.607  \n",
              "5          126              16             35    819.810  \n",
              "6           89              16             32    893.172  \n",
              "7           89              16             32  1.563.135  \n",
              "8           95              16             32  1.603.975  \n",
              "9           97              16             38  1.865.753  "
            ],
            "text/html": [
              "\n",
              "  <div id=\"df-ae5bbd02-7deb-4c35-a31a-54373d8e135d\">\n",
              "    <div class=\"colab-df-container\">\n",
              "      <div>\n",
              "<style scoped>\n",
              "    .dataframe tbody tr th:only-of-type {\n",
              "        vertical-align: middle;\n",
              "    }\n",
              "\n",
              "    .dataframe tbody tr th {\n",
              "        vertical-align: top;\n",
              "    }\n",
              "\n",
              "    .dataframe thead th {\n",
              "        text-align: right;\n",
              "    }\n",
              "</style>\n",
              "<table border=\"1\" class=\"dataframe\">\n",
              "  <thead>\n",
              "    <tr style=\"text-align: right;\">\n",
              "      <th></th>\n",
              "      <th>Year</th>\n",
              "      <th>Country</th>\n",
              "      <th>Winner</th>\n",
              "      <th>Runners-Up</th>\n",
              "      <th>Third</th>\n",
              "      <th>Fourth</th>\n",
              "      <th>GoalsScored</th>\n",
              "      <th>QualifiedTeams</th>\n",
              "      <th>MatchesPlayed</th>\n",
              "      <th>Attendance</th>\n",
              "    </tr>\n",
              "  </thead>\n",
              "  <tbody>\n",
              "    <tr>\n",
              "      <th>0</th>\n",
              "      <td>1930</td>\n",
              "      <td>Uruguay</td>\n",
              "      <td>Uruguay</td>\n",
              "      <td>Argentina</td>\n",
              "      <td>USA</td>\n",
              "      <td>Yugoslavia</td>\n",
              "      <td>70</td>\n",
              "      <td>13</td>\n",
              "      <td>18</td>\n",
              "      <td>590.549</td>\n",
              "    </tr>\n",
              "    <tr>\n",
              "      <th>1</th>\n",
              "      <td>1934</td>\n",
              "      <td>Italy</td>\n",
              "      <td>Italy</td>\n",
              "      <td>Czechoslovakia</td>\n",
              "      <td>Germany</td>\n",
              "      <td>Austria</td>\n",
              "      <td>70</td>\n",
              "      <td>16</td>\n",
              "      <td>17</td>\n",
              "      <td>363.000</td>\n",
              "    </tr>\n",
              "    <tr>\n",
              "      <th>2</th>\n",
              "      <td>1938</td>\n",
              "      <td>France</td>\n",
              "      <td>Italy</td>\n",
              "      <td>Hungary</td>\n",
              "      <td>Brazil</td>\n",
              "      <td>Sweden</td>\n",
              "      <td>84</td>\n",
              "      <td>15</td>\n",
              "      <td>18</td>\n",
              "      <td>375.700</td>\n",
              "    </tr>\n",
              "    <tr>\n",
              "      <th>3</th>\n",
              "      <td>1950</td>\n",
              "      <td>Brazil</td>\n",
              "      <td>Uruguay</td>\n",
              "      <td>Brazil</td>\n",
              "      <td>Sweden</td>\n",
              "      <td>Spain</td>\n",
              "      <td>88</td>\n",
              "      <td>13</td>\n",
              "      <td>22</td>\n",
              "      <td>1.045.246</td>\n",
              "    </tr>\n",
              "    <tr>\n",
              "      <th>4</th>\n",
              "      <td>1954</td>\n",
              "      <td>Switzerland</td>\n",
              "      <td>Germany FR</td>\n",
              "      <td>Hungary</td>\n",
              "      <td>Austria</td>\n",
              "      <td>Uruguay</td>\n",
              "      <td>140</td>\n",
              "      <td>16</td>\n",
              "      <td>26</td>\n",
              "      <td>768.607</td>\n",
              "    </tr>\n",
              "    <tr>\n",
              "      <th>5</th>\n",
              "      <td>1958</td>\n",
              "      <td>Sweden</td>\n",
              "      <td>Brazil</td>\n",
              "      <td>Sweden</td>\n",
              "      <td>France</td>\n",
              "      <td>Germany FR</td>\n",
              "      <td>126</td>\n",
              "      <td>16</td>\n",
              "      <td>35</td>\n",
              "      <td>819.810</td>\n",
              "    </tr>\n",
              "    <tr>\n",
              "      <th>6</th>\n",
              "      <td>1962</td>\n",
              "      <td>Chile</td>\n",
              "      <td>Brazil</td>\n",
              "      <td>Czechoslovakia</td>\n",
              "      <td>Chile</td>\n",
              "      <td>Yugoslavia</td>\n",
              "      <td>89</td>\n",
              "      <td>16</td>\n",
              "      <td>32</td>\n",
              "      <td>893.172</td>\n",
              "    </tr>\n",
              "    <tr>\n",
              "      <th>7</th>\n",
              "      <td>1966</td>\n",
              "      <td>England</td>\n",
              "      <td>England</td>\n",
              "      <td>Germany FR</td>\n",
              "      <td>Portugal</td>\n",
              "      <td>Soviet Union</td>\n",
              "      <td>89</td>\n",
              "      <td>16</td>\n",
              "      <td>32</td>\n",
              "      <td>1.563.135</td>\n",
              "    </tr>\n",
              "    <tr>\n",
              "      <th>8</th>\n",
              "      <td>1970</td>\n",
              "      <td>Mexico</td>\n",
              "      <td>Brazil</td>\n",
              "      <td>Italy</td>\n",
              "      <td>Germany FR</td>\n",
              "      <td>Uruguay</td>\n",
              "      <td>95</td>\n",
              "      <td>16</td>\n",
              "      <td>32</td>\n",
              "      <td>1.603.975</td>\n",
              "    </tr>\n",
              "    <tr>\n",
              "      <th>9</th>\n",
              "      <td>1974</td>\n",
              "      <td>Germany</td>\n",
              "      <td>Germany FR</td>\n",
              "      <td>Netherlands</td>\n",
              "      <td>Poland</td>\n",
              "      <td>Brazil</td>\n",
              "      <td>97</td>\n",
              "      <td>16</td>\n",
              "      <td>38</td>\n",
              "      <td>1.865.753</td>\n",
              "    </tr>\n",
              "  </tbody>\n",
              "</table>\n",
              "</div>\n",
              "      <button class=\"colab-df-convert\" onclick=\"convertToInteractive('df-ae5bbd02-7deb-4c35-a31a-54373d8e135d')\"\n",
              "              title=\"Convert this dataframe to an interactive table.\"\n",
              "              style=\"display:none;\">\n",
              "        \n",
              "  <svg xmlns=\"http://www.w3.org/2000/svg\" height=\"24px\"viewBox=\"0 0 24 24\"\n",
              "       width=\"24px\">\n",
              "    <path d=\"M0 0h24v24H0V0z\" fill=\"none\"/>\n",
              "    <path d=\"M18.56 5.44l.94 2.06.94-2.06 2.06-.94-2.06-.94-.94-2.06-.94 2.06-2.06.94zm-11 1L8.5 8.5l.94-2.06 2.06-.94-2.06-.94L8.5 2.5l-.94 2.06-2.06.94zm10 10l.94 2.06.94-2.06 2.06-.94-2.06-.94-.94-2.06-.94 2.06-2.06.94z\"/><path d=\"M17.41 7.96l-1.37-1.37c-.4-.4-.92-.59-1.43-.59-.52 0-1.04.2-1.43.59L10.3 9.45l-7.72 7.72c-.78.78-.78 2.05 0 2.83L4 21.41c.39.39.9.59 1.41.59.51 0 1.02-.2 1.41-.59l7.78-7.78 2.81-2.81c.8-.78.8-2.07 0-2.86zM5.41 20L4 18.59l7.72-7.72 1.47 1.35L5.41 20z\"/>\n",
              "  </svg>\n",
              "      </button>\n",
              "      \n",
              "  <style>\n",
              "    .colab-df-container {\n",
              "      display:flex;\n",
              "      flex-wrap:wrap;\n",
              "      gap: 12px;\n",
              "    }\n",
              "\n",
              "    .colab-df-convert {\n",
              "      background-color: #E8F0FE;\n",
              "      border: none;\n",
              "      border-radius: 50%;\n",
              "      cursor: pointer;\n",
              "      display: none;\n",
              "      fill: #1967D2;\n",
              "      height: 32px;\n",
              "      padding: 0 0 0 0;\n",
              "      width: 32px;\n",
              "    }\n",
              "\n",
              "    .colab-df-convert:hover {\n",
              "      background-color: #E2EBFA;\n",
              "      box-shadow: 0px 1px 2px rgba(60, 64, 67, 0.3), 0px 1px 3px 1px rgba(60, 64, 67, 0.15);\n",
              "      fill: #174EA6;\n",
              "    }\n",
              "\n",
              "    [theme=dark] .colab-df-convert {\n",
              "      background-color: #3B4455;\n",
              "      fill: #D2E3FC;\n",
              "    }\n",
              "\n",
              "    [theme=dark] .colab-df-convert:hover {\n",
              "      background-color: #434B5C;\n",
              "      box-shadow: 0px 1px 3px 1px rgba(0, 0, 0, 0.15);\n",
              "      filter: drop-shadow(0px 1px 2px rgba(0, 0, 0, 0.3));\n",
              "      fill: #FFFFFF;\n",
              "    }\n",
              "  </style>\n",
              "\n",
              "      <script>\n",
              "        const buttonEl =\n",
              "          document.querySelector('#df-ae5bbd02-7deb-4c35-a31a-54373d8e135d button.colab-df-convert');\n",
              "        buttonEl.style.display =\n",
              "          google.colab.kernel.accessAllowed ? 'block' : 'none';\n",
              "\n",
              "        async function convertToInteractive(key) {\n",
              "          const element = document.querySelector('#df-ae5bbd02-7deb-4c35-a31a-54373d8e135d');\n",
              "          const dataTable =\n",
              "            await google.colab.kernel.invokeFunction('convertToInteractive',\n",
              "                                                     [key], {});\n",
              "          if (!dataTable) return;\n",
              "\n",
              "          const docLinkHtml = 'Like what you see? Visit the ' +\n",
              "            '<a target=\"_blank\" href=https://colab.research.google.com/notebooks/data_table.ipynb>data table notebook</a>'\n",
              "            + ' to learn more about interactive tables.';\n",
              "          element.innerHTML = '';\n",
              "          dataTable['output_type'] = 'display_data';\n",
              "          await google.colab.output.renderOutput(dataTable, element);\n",
              "          const docLink = document.createElement('div');\n",
              "          docLink.innerHTML = docLinkHtml;\n",
              "          element.appendChild(docLink);\n",
              "        }\n",
              "      </script>\n",
              "    </div>\n",
              "  </div>\n",
              "  "
            ]
          },
          "metadata": {},
          "execution_count": 5
        }
      ],
      "source": [
        "#  write the appropriate function name and the number of rows to get in the output\n",
        "\n",
        "fifa.head(10)"
      ]
    },
    {
      "cell_type": "markdown",
      "metadata": {
        "id": "fBftma6Xa843"
      },
      "source": [
        "## Q5. What do you understand by the dimension of the dataset? Find the dimension of the `fifa` dataframe."
      ]
    },
    {
      "cell_type": "code",
      "execution_count": null,
      "metadata": {
        "id": "L3YwD_dwa843",
        "colab": {
          "base_uri": "https://localhost:8080/"
        },
        "outputId": "4c4fdbe4-e836-4721-8f69-53d6bd8bd36a"
      },
      "outputs": [
        {
          "output_type": "execute_result",
          "data": {
            "text/plain": [
              "(20, 10)"
            ]
          },
          "metadata": {},
          "execution_count": 6
        }
      ],
      "source": [
        "# write the appropriate function name\n",
        "\n",
        "fifa.shape"
      ]
    },
    {
      "cell_type": "markdown",
      "metadata": {
        "id": "UkTWFJrra843"
      },
      "source": [
        "#### Write your Answer here: \n"
      ]
    },
    {
      "cell_type": "raw",
      "metadata": {
        "id": "mU3gN-2Ba844"
      },
      "source": [
        "Ans 5: (20,10)"
      ]
    },
    {
      "cell_type": "markdown",
      "metadata": {
        "id": "PYfzdrdIa844"
      },
      "source": [
        "## Q6. What do you understand by the size of the dataset? Find the size of the `fifa` dataframe."
      ]
    },
    {
      "cell_type": "code",
      "execution_count": null,
      "metadata": {
        "id": "nl5Dpm_ba844",
        "colab": {
          "base_uri": "https://localhost:8080/"
        },
        "outputId": "1be1bfba-4c09-4d7c-f843-34901684eecc"
      },
      "outputs": [
        {
          "output_type": "execute_result",
          "data": {
            "text/plain": [
              "200"
            ]
          },
          "metadata": {},
          "execution_count": 7
        }
      ],
      "source": [
        "# write the appropriate function name\n",
        "\n",
        "fifa.size"
      ]
    },
    {
      "cell_type": "markdown",
      "metadata": {
        "id": "MqIbNbRUa844"
      },
      "source": [
        "#### Write your Answer here: \n"
      ]
    },
    {
      "cell_type": "raw",
      "metadata": {
        "id": "q_Uu6KUWa845"
      },
      "source": [
        "Ans 6: 200"
      ]
    },
    {
      "cell_type": "markdown",
      "metadata": {
        "id": "7O00AheAa845"
      },
      "source": [
        "## Q7. What are the data types of all the variables in the data set? \n",
        "**Hint: Use the info() function to get all the information about the dataset.**"
      ]
    },
    {
      "cell_type": "code",
      "execution_count": null,
      "metadata": {
        "id": "t64NXCyGa846",
        "colab": {
          "base_uri": "https://localhost:8080/"
        },
        "outputId": "5b9a0f84-912b-4042-e395-13056adfde99"
      },
      "outputs": [
        {
          "output_type": "stream",
          "name": "stdout",
          "text": [
            "<class 'pandas.core.frame.DataFrame'>\n",
            "RangeIndex: 20 entries, 0 to 19\n",
            "Data columns (total 10 columns):\n",
            " #   Column          Non-Null Count  Dtype \n",
            "---  ------          --------------  ----- \n",
            " 0   Year            20 non-null     int64 \n",
            " 1   Country         20 non-null     object\n",
            " 2   Winner          20 non-null     object\n",
            " 3   Runners-Up      20 non-null     object\n",
            " 4   Third           20 non-null     object\n",
            " 5   Fourth          20 non-null     object\n",
            " 6   GoalsScored     20 non-null     int64 \n",
            " 7   QualifiedTeams  20 non-null     int64 \n",
            " 8   MatchesPlayed   20 non-null     int64 \n",
            " 9   Attendance      20 non-null     object\n",
            "dtypes: int64(4), object(6)\n",
            "memory usage: 1.7+ KB\n"
          ]
        }
      ],
      "source": [
        "# write the appropriate function name\n",
        "\n",
        "fifa.info()"
      ]
    },
    {
      "cell_type": "markdown",
      "metadata": {
        "id": "RJrf8hica846"
      },
      "source": [
        "#### Write your Answer here: \n"
      ]
    },
    {
      "cell_type": "raw",
      "metadata": {
        "id": "Tk_bsCvpa847"
      },
      "source": [
        "Ans 7:info()"
      ]
    },
    {
      "cell_type": "markdown",
      "metadata": {
        "id": "S2ueDLl7a847"
      },
      "source": [
        "## Q8. What do you mean by missing values? Are there any missing values in the `fifa` dataframe?"
      ]
    },
    {
      "cell_type": "code",
      "execution_count": null,
      "metadata": {
        "id": "ennOi-2ja847",
        "colab": {
          "base_uri": "https://localhost:8080/"
        },
        "outputId": "eda5161a-13d0-40d9-c0c1-df0197f152c5"
      },
      "outputs": [
        {
          "output_type": "execute_result",
          "data": {
            "text/plain": [
              "False"
            ]
          },
          "metadata": {},
          "execution_count": 13
        }
      ],
      "source": [
        "# write the appropriate function name\n",
        "\n",
        "fifa.isnull().values.any()"
      ]
    },
    {
      "cell_type": "markdown",
      "metadata": {
        "id": "OUtbS2Tra848"
      },
      "source": [
        "#### Write your Answer here: \n"
      ]
    },
    {
      "cell_type": "raw",
      "metadata": {
        "id": "R_Ia6-Mca848"
      },
      "source": [
        "Ans 8:No"
      ]
    },
    {
      "cell_type": "markdown",
      "metadata": {
        "id": "vY-IWVQya848"
      },
      "source": [
        "## Q9. What do summary statistics of data represent? Find the summary statistics for the numerical variables (Dtype is int64) in the `fifa` data?"
      ]
    },
    {
      "cell_type": "code",
      "execution_count": null,
      "metadata": {
        "id": "y33wBsc-a849",
        "colab": {
          "base_uri": "https://localhost:8080/",
          "height": 300
        },
        "outputId": "7bb82795-7877-48c7-9d93-6aeb8740b2cc"
      },
      "outputs": [
        {
          "output_type": "execute_result",
          "data": {
            "text/plain": [
              "              Year  GoalsScored  QualifiedTeams  MatchesPlayed\n",
              "count    20.000000    20.000000       20.000000      20.000000\n",
              "mean   1974.800000   118.950000       21.250000      41.800000\n",
              "std      25.582889    32.972836        7.268352      17.218717\n",
              "min    1930.000000    70.000000       13.000000      17.000000\n",
              "25%    1957.000000    89.000000       16.000000      30.500000\n",
              "50%    1976.000000   120.500000       16.000000      38.000000\n",
              "75%    1995.000000   145.250000       26.000000      55.000000\n",
              "max    2014.000000   171.000000       32.000000      64.000000"
            ],
            "text/html": [
              "\n",
              "  <div id=\"df-c4dc73df-0eaf-42e0-ac5b-015a85c76e48\">\n",
              "    <div class=\"colab-df-container\">\n",
              "      <div>\n",
              "<style scoped>\n",
              "    .dataframe tbody tr th:only-of-type {\n",
              "        vertical-align: middle;\n",
              "    }\n",
              "\n",
              "    .dataframe tbody tr th {\n",
              "        vertical-align: top;\n",
              "    }\n",
              "\n",
              "    .dataframe thead th {\n",
              "        text-align: right;\n",
              "    }\n",
              "</style>\n",
              "<table border=\"1\" class=\"dataframe\">\n",
              "  <thead>\n",
              "    <tr style=\"text-align: right;\">\n",
              "      <th></th>\n",
              "      <th>Year</th>\n",
              "      <th>GoalsScored</th>\n",
              "      <th>QualifiedTeams</th>\n",
              "      <th>MatchesPlayed</th>\n",
              "    </tr>\n",
              "  </thead>\n",
              "  <tbody>\n",
              "    <tr>\n",
              "      <th>count</th>\n",
              "      <td>20.000000</td>\n",
              "      <td>20.000000</td>\n",
              "      <td>20.000000</td>\n",
              "      <td>20.000000</td>\n",
              "    </tr>\n",
              "    <tr>\n",
              "      <th>mean</th>\n",
              "      <td>1974.800000</td>\n",
              "      <td>118.950000</td>\n",
              "      <td>21.250000</td>\n",
              "      <td>41.800000</td>\n",
              "    </tr>\n",
              "    <tr>\n",
              "      <th>std</th>\n",
              "      <td>25.582889</td>\n",
              "      <td>32.972836</td>\n",
              "      <td>7.268352</td>\n",
              "      <td>17.218717</td>\n",
              "    </tr>\n",
              "    <tr>\n",
              "      <th>min</th>\n",
              "      <td>1930.000000</td>\n",
              "      <td>70.000000</td>\n",
              "      <td>13.000000</td>\n",
              "      <td>17.000000</td>\n",
              "    </tr>\n",
              "    <tr>\n",
              "      <th>25%</th>\n",
              "      <td>1957.000000</td>\n",
              "      <td>89.000000</td>\n",
              "      <td>16.000000</td>\n",
              "      <td>30.500000</td>\n",
              "    </tr>\n",
              "    <tr>\n",
              "      <th>50%</th>\n",
              "      <td>1976.000000</td>\n",
              "      <td>120.500000</td>\n",
              "      <td>16.000000</td>\n",
              "      <td>38.000000</td>\n",
              "    </tr>\n",
              "    <tr>\n",
              "      <th>75%</th>\n",
              "      <td>1995.000000</td>\n",
              "      <td>145.250000</td>\n",
              "      <td>26.000000</td>\n",
              "      <td>55.000000</td>\n",
              "    </tr>\n",
              "    <tr>\n",
              "      <th>max</th>\n",
              "      <td>2014.000000</td>\n",
              "      <td>171.000000</td>\n",
              "      <td>32.000000</td>\n",
              "      <td>64.000000</td>\n",
              "    </tr>\n",
              "  </tbody>\n",
              "</table>\n",
              "</div>\n",
              "      <button class=\"colab-df-convert\" onclick=\"convertToInteractive('df-c4dc73df-0eaf-42e0-ac5b-015a85c76e48')\"\n",
              "              title=\"Convert this dataframe to an interactive table.\"\n",
              "              style=\"display:none;\">\n",
              "        \n",
              "  <svg xmlns=\"http://www.w3.org/2000/svg\" height=\"24px\"viewBox=\"0 0 24 24\"\n",
              "       width=\"24px\">\n",
              "    <path d=\"M0 0h24v24H0V0z\" fill=\"none\"/>\n",
              "    <path d=\"M18.56 5.44l.94 2.06.94-2.06 2.06-.94-2.06-.94-.94-2.06-.94 2.06-2.06.94zm-11 1L8.5 8.5l.94-2.06 2.06-.94-2.06-.94L8.5 2.5l-.94 2.06-2.06.94zm10 10l.94 2.06.94-2.06 2.06-.94-2.06-.94-.94-2.06-.94 2.06-2.06.94z\"/><path d=\"M17.41 7.96l-1.37-1.37c-.4-.4-.92-.59-1.43-.59-.52 0-1.04.2-1.43.59L10.3 9.45l-7.72 7.72c-.78.78-.78 2.05 0 2.83L4 21.41c.39.39.9.59 1.41.59.51 0 1.02-.2 1.41-.59l7.78-7.78 2.81-2.81c.8-.78.8-2.07 0-2.86zM5.41 20L4 18.59l7.72-7.72 1.47 1.35L5.41 20z\"/>\n",
              "  </svg>\n",
              "      </button>\n",
              "      \n",
              "  <style>\n",
              "    .colab-df-container {\n",
              "      display:flex;\n",
              "      flex-wrap:wrap;\n",
              "      gap: 12px;\n",
              "    }\n",
              "\n",
              "    .colab-df-convert {\n",
              "      background-color: #E8F0FE;\n",
              "      border: none;\n",
              "      border-radius: 50%;\n",
              "      cursor: pointer;\n",
              "      display: none;\n",
              "      fill: #1967D2;\n",
              "      height: 32px;\n",
              "      padding: 0 0 0 0;\n",
              "      width: 32px;\n",
              "    }\n",
              "\n",
              "    .colab-df-convert:hover {\n",
              "      background-color: #E2EBFA;\n",
              "      box-shadow: 0px 1px 2px rgba(60, 64, 67, 0.3), 0px 1px 3px 1px rgba(60, 64, 67, 0.15);\n",
              "      fill: #174EA6;\n",
              "    }\n",
              "\n",
              "    [theme=dark] .colab-df-convert {\n",
              "      background-color: #3B4455;\n",
              "      fill: #D2E3FC;\n",
              "    }\n",
              "\n",
              "    [theme=dark] .colab-df-convert:hover {\n",
              "      background-color: #434B5C;\n",
              "      box-shadow: 0px 1px 3px 1px rgba(0, 0, 0, 0.15);\n",
              "      filter: drop-shadow(0px 1px 2px rgba(0, 0, 0, 0.3));\n",
              "      fill: #FFFFFF;\n",
              "    }\n",
              "  </style>\n",
              "\n",
              "      <script>\n",
              "        const buttonEl =\n",
              "          document.querySelector('#df-c4dc73df-0eaf-42e0-ac5b-015a85c76e48 button.colab-df-convert');\n",
              "        buttonEl.style.display =\n",
              "          google.colab.kernel.accessAllowed ? 'block' : 'none';\n",
              "\n",
              "        async function convertToInteractive(key) {\n",
              "          const element = document.querySelector('#df-c4dc73df-0eaf-42e0-ac5b-015a85c76e48');\n",
              "          const dataTable =\n",
              "            await google.colab.kernel.invokeFunction('convertToInteractive',\n",
              "                                                     [key], {});\n",
              "          if (!dataTable) return;\n",
              "\n",
              "          const docLinkHtml = 'Like what you see? Visit the ' +\n",
              "            '<a target=\"_blank\" href=https://colab.research.google.com/notebooks/data_table.ipynb>data table notebook</a>'\n",
              "            + ' to learn more about interactive tables.';\n",
              "          element.innerHTML = '';\n",
              "          dataTable['output_type'] = 'display_data';\n",
              "          await google.colab.output.renderOutput(dataTable, element);\n",
              "          const docLink = document.createElement('div');\n",
              "          docLink.innerHTML = docLinkHtml;\n",
              "          element.appendChild(docLink);\n",
              "        }\n",
              "      </script>\n",
              "    </div>\n",
              "  </div>\n",
              "  "
            ]
          },
          "metadata": {},
          "execution_count": 17
        }
      ],
      "source": [
        "# write the appropriate function name\n",
        "\n",
        "fifa.describe()"
      ]
    },
    {
      "cell_type": "markdown",
      "metadata": {
        "id": "5wtVpNIXa849"
      },
      "source": [
        "#### Write your Answer here: \n"
      ]
    },
    {
      "cell_type": "raw",
      "metadata": {
        "id": "LLvhCU2Ba849"
      },
      "source": [
        "Ans 9:describe()"
      ]
    },
    {
      "cell_type": "markdown",
      "metadata": {
        "id": "RIT9TDEna849"
      },
      "source": [
        "## Q 10. Plot the distribution plot for the variable 'MatchesPlayed'. Write detailed observations from the plot."
      ]
    },
    {
      "cell_type": "code",
      "execution_count": null,
      "metadata": {
        "id": "XInFJc4Sa84-",
        "colab": {
          "base_uri": "https://localhost:8080/",
          "height": 317
        },
        "outputId": "25be87a6-60b9-42e2-e7d5-7eb4d63f1a08"
      },
      "outputs": [
        {
          "output_type": "stream",
          "name": "stderr",
          "text": [
            "/usr/local/lib/python3.7/dist-packages/seaborn/distributions.py:2619: FutureWarning: `distplot` is a deprecated function and will be removed in a future version. Please adapt your code to use either `displot` (a figure-level function with similar flexibility) or `histplot` (an axes-level function for histograms).\n",
            "  warnings.warn(msg, FutureWarning)\n"
          ]
        },
        {
          "output_type": "display_data",
          "data": {
            "text/plain": [
              "<Figure size 432x288 with 1 Axes>"
            ],
            "image/png": "[encoded data removed]"
          },
          "metadata": {
            "needs_background": "light"
          }
        }
      ],
      "source": [
        "# write the appropriate library name\n",
        "\n",
        "sns.distplot(fifa['MatchesPlayed'])\n",
        "plt.show()"
      ]
    },
    {
      "cell_type": "markdown",
      "metadata": {
        "id": "0iFOoCp2a84-"
      },
      "source": [
        "#### Write your Answer here: \n"
      ]
    },
    {
      "cell_type": "raw",
      "metadata": {
        "id": "VoN0pRPla84-"
      },
      "source": [
        "Ans 10: sns"
      ]
    },
    {
      "cell_type": "markdown",
      "metadata": {
        "id": "O6BtQRZLa84_"
      },
      "source": [
        "## Q 11. Which country has won the world cup maximum times?\n",
        "**Hint: Use value_counts() function**\n",
        "\n",
        "`value_counts()` function returns object containing counts of unique values. The resulting object will be in descending order so that the first element is the most frequently occurring."
      ]
    },
    {
      "cell_type": "code",
      "execution_count": null,
      "metadata": {
        "id": "WW2nu2DLa84_",
        "colab": {
          "base_uri": "https://localhost:8080/",
          "height": 35
        },
        "outputId": "b6c58295-0b85-446e-b2cc-2d2c59725037"
      },
      "outputs": [
        {
          "output_type": "execute_result",
          "data": {
            "text/plain": [
              "'Uruguay'"
            ],
            "application/vnd.google.colaboratory.intrinsic+json": {
              "type": "string"
            }
          },
          "metadata": {},
          "execution_count": 25
        }
      ],
      "source": [
        "# write the appropriate function name\n",
        "\n",
        "fifa['Winner'].max()"
      ]
    },
    {
      "cell_type": "markdown",
      "metadata": {
        "id": "h3jSHa6La84_"
      },
      "source": [
        "#### Write your Answer here: \n"
      ]
    },
    {
      "cell_type": "raw",
      "metadata": {
        "id": "WJnZJWFHa84_"
      },
      "source": [
        "Ans 11: Uraguay"
      ]
    },
    {
      "cell_type": "markdown",
      "metadata": {
        "id": "bdQknezSa85A"
      },
      "source": [
        "## Q12. \n",
        "### 12.1 What is the mean of the variable 'Qualified teams'? \n",
        "### 12.2 What is the median of the variable 'Qualified teams'? \n",
        "### 12.3 What is the mode of the variable 'Qualified teams'?\n",
        "### Explain your answer"
      ]
    },
    {
      "cell_type": "code",
      "execution_count": null,
      "metadata": {
        "id": "X42jHvaUa85A",
        "colab": {
          "base_uri": "https://localhost:8080/"
        },
        "outputId": "c071337e-c279-441f-ef11-4851c4b27019"
      },
      "outputs": [
        {
          "output_type": "stream",
          "name": "stdout",
          "text": [
            "21.25\n",
            "16.0\n",
            "16\n"
          ]
        }
      ],
      "source": [
        "# write the appropriate function name\n",
        "\n",
        "m1 = fifa['QualifiedTeams'].mean()  # mean\n",
        "print(m1)\n",
        "m2 = fifa['QualifiedTeams'].median()  # median\n",
        "print(m2)\n",
        "m3 = fifa['QualifiedTeams'].mode()[0]  # mode\n",
        "print(m3)"
      ]
    },
    {
      "cell_type": "markdown",
      "metadata": {
        "id": "enFtjSJna85A"
      },
      "source": [
        "#### Write your Answer here: \n"
      ]
    },
    {
      "cell_type": "raw",
      "metadata": {
        "id": "S25VN0ASa85A"
      },
      "source": [
        "Ans 12:21.25,16.0,16"
      ]
    },
    {
      "cell_type": "markdown",
      "metadata": {
        "id": "pIGlJi_2a85B"
      },
      "source": [
        "## Q13. How many countries are above the mean level of 'Qualified Teams'?"
      ]
    },
    {
      "cell_type": "code",
      "execution_count": null,
      "metadata": {
        "id": "03RLQ2u3a85B",
        "colab": {
          "base_uri": "https://localhost:8080/"
        },
        "outputId": "d671b436-cc50-4f43-fa55-479470477277"
      },
      "outputs": [
        {
          "output_type": "execute_result",
          "data": {
            "text/plain": [
              "11           Spain\n",
              "12          Mexico\n",
              "13           Italy\n",
              "14             USA\n",
              "15          France\n",
              "16     Korea/Japan\n",
              "17         Germany\n",
              "18    South Africa\n",
              "19          Brazil\n",
              "Name: Country, dtype: object"
            ]
          },
          "metadata": {},
          "execution_count": 31
        }
      ],
      "source": [
        "#  write the appropriate column name\n",
        "\n",
        "fifa[fifa['QualifiedTeams']>m1]['Country']"
      ]
    },
    {
      "cell_type": "markdown",
      "metadata": {
        "id": "jol5TaVOa85B"
      },
      "source": [
        "#### Write your Answer here: \n"
      ]
    },
    {
      "cell_type": "raw",
      "metadata": {
        "id": "mHOx3ycsa85B"
      },
      "source": [
        "Ans 13:"
      ]
    },
    {
      "cell_type": "markdown",
      "metadata": {
        "id": "VFZtw9zCa85C"
      },
      "source": [
        "## Q14. What is the median of variables 'GoalsScored' & 'MatchesPlayed'? "
      ]
    },
    {
      "cell_type": "code",
      "execution_count": null,
      "metadata": {
        "id": "qzTHfurwa85C",
        "colab": {
          "base_uri": "https://localhost:8080/"
        },
        "outputId": "6740ec68-29af-44ca-92ba-3f20042577ae"
      },
      "outputs": [
        {
          "output_type": "stream",
          "name": "stdout",
          "text": [
            "120.5\n",
            "38.0\n"
          ]
        }
      ],
      "source": [
        "# write the appropriate library name\n",
        "\n",
        "GS_median = np.median(fifa['GoalsScored'])\n",
        "print(GS_median)\n",
        "QT_median = np.median(fifa['MatchesPlayed'])\n",
        "print(QT_median)"
      ]
    },
    {
      "cell_type": "markdown",
      "metadata": {
        "id": "4h3OzGZ2a85C"
      },
      "source": [
        "#### Write your Answer here: \n"
      ]
    },
    {
      "cell_type": "raw",
      "metadata": {
        "id": "qW0-dEsya85C"
      },
      "source": [
        "Ans 14:"
      ]
    },
    {
      "cell_type": "markdown",
      "metadata": {
        "id": "jiB1rL2Fa85D"
      },
      "source": [
        "## Q15. Which country scored the minimum number of goals?"
      ]
    },
    {
      "cell_type": "code",
      "execution_count": null,
      "metadata": {
        "id": "6IZmYJKxa85D",
        "colab": {
          "base_uri": "https://localhost:8080/"
        },
        "outputId": "47cd0006-2438-4305-c9fb-93d32c5bc4cb"
      },
      "outputs": [
        {
          "output_type": "execute_result",
          "data": {
            "text/plain": [
              "0    Uruguay\n",
              "1      Italy\n",
              "Name: Country, dtype: object"
            ]
          },
          "metadata": {},
          "execution_count": 36
        }
      ],
      "source": [
        "# write the appropriate function name\n",
        "\n",
        "fifa[fifa['GoalsScored']==fifa['GoalsScored'].min()]['Country']"
      ]
    },
    {
      "cell_type": "markdown",
      "metadata": {
        "id": "_zyO9hQra85D"
      },
      "source": [
        "#### Write your Answer here: \n"
      ]
    },
    {
      "cell_type": "raw",
      "metadata": {
        "id": "7UYkgARTa85D"
      },
      "source": [
        "Ans 15:"
      ]
    },
    {
      "cell_type": "markdown",
      "metadata": {
        "id": "Qd2wRApWa85D"
      },
      "source": [
        "## Q16. Plot the pairplots of 'GoalsScored', 'QualifiedTeams', 'MatchesPlayed'."
      ]
    },
    {
      "cell_type": "code",
      "execution_count": null,
      "metadata": {
        "id": "0oUE9xtra85E",
        "scrolled": false,
        "colab": {
          "base_uri": "https://localhost:8080/",
          "height": 550
        },
        "outputId": "b01ccf68-bc76-453c-8f59-4974e133f18d"
      },
      "outputs": [
        {
          "output_type": "display_data",
          "data": {
            "text/plain": [
              "<Figure size 540x540 with 12 Axes>"
            ],
            "image/png": "[encoded data removed]"
          },
          "metadata": {
            "needs_background": "light"
          }
        }
      ],
      "source": [
        "# write the appropriate function name\n",
        "\n",
        "sns.pairplot(fifa[['GoalsScored', 'QualifiedTeams', 'MatchesPlayed']])\n",
        "plt.show()"
      ]
    },
    {
      "cell_type": "markdown",
      "metadata": {
        "id": "65fgynxxa85E"
      },
      "source": [
        "## Q17. Plot the scatterplot for variables 'Country' & 'Year'."
      ]
    },
    {
      "cell_type": "code",
      "execution_count": null,
      "metadata": {
        "id": "Ea7n4LJva85F",
        "colab": {
          "base_uri": "https://localhost:8080/",
          "height": 279
        },
        "outputId": "6f3bd79d-bb25-456b-9cd3-230dc9a53d40"
      },
      "outputs": [
        {
          "output_type": "display_data",
          "data": {
            "text/plain": [
              "<Figure size 432x288 with 1 Axes>"
            ],
            "image/png": "[encoded data removed]"
          },
          "metadata": {
            "needs_background": "light"
          }
        }
      ],
      "source": [
        "# write the appropriate function name\n",
        "\n",
        "sns.scatterplot(x= fifa['Year'], y= fifa['Country'])\n",
        "plt.show()"
      ]
    },
    {
      "cell_type": "markdown",
      "metadata": {
        "id": "bCitALhYa85G"
      },
      "source": [
        "## Q18. Plot a countplot for the variable 'Winner' to understand the number of times a country won the world cup between 1930 to 2014."
      ]
    },
    {
      "cell_type": "code",
      "execution_count": null,
      "metadata": {
        "id": "0uoSMt2Ya85G",
        "colab": {
          "base_uri": "https://localhost:8080/",
          "height": 404
        },
        "outputId": "3a41b4f4-07f4-4950-d82f-728fd2de8551"
      },
      "outputs": [
        {
          "output_type": "display_data",
          "data": {
            "text/plain": [
              "<Figure size 576x432 with 1 Axes>"
            ],
            "image/png": "[encoded data removed]"
          },
          "metadata": {
            "needs_background": "light"
          }
        }
      ],
      "source": [
        "# write the appropriate column name \n",
        "\n",
        "plt.figure(figsize=(8,6))\n",
        "\n",
        "sns.countplot(x=fifa['Winner'])\n",
        "\n",
        "plt.title('How many times Country played matches between 1930 to 2014')\n",
        "\n",
        "plt.xlabel('Country')\n",
        "\n",
        "plt.ylabel('Frequency')\n",
        "\n",
        "plt.show()"
      ]
    },
    {
      "cell_type": "markdown",
      "metadata": {
        "id": "bgYP4sGra85G"
      },
      "source": [
        "#### Write your Answer here: \n"
      ]
    },
    {
      "cell_type": "raw",
      "metadata": {
        "id": "lxqPwTxPa85H"
      },
      "source": [
        "Ans 18:"
      ]
    },
    {
      "cell_type": "markdown",
      "metadata": {
        "id": "40FbePwba85H"
      },
      "source": [
        "## Q 19. Show boxplot and calculate the interquartile range for the variable 'GoalsScored'"
      ]
    },
    {
      "cell_type": "code",
      "execution_count": null,
      "metadata": {
        "id": "7LCXncNqa85H",
        "colab": {
          "base_uri": "https://localhost:8080/",
          "height": 281
        },
        "outputId": "a8959bcf-261e-45ed-b7ca-7b56eecbeb2c"
      },
      "outputs": [
        {
          "output_type": "display_data",
          "data": {
            "text/plain": [
              "<Figure size 432x288 with 1 Axes>"
            ],
            "image/png": "[encoded data removed]"
          },
          "metadata": {
            "needs_background": "light"
          }
        }
      ],
      "source": [
        "# write the appropriate function/number\n",
        "\n",
        "plt.boxplot(fifa['GoalsScored'])\n",
        "\n",
        "plt.text(x=1.1,y=fifa['GoalsScored'].min(), s='min')\n",
        "plt.text(x=1.1,y=fifa.GoalsScored.quantile(0.25), s='Q1')\n",
        "plt.text(x=1.1,y=fifa['GoalsScored'].median(), s='median(Q2)')\n",
        "plt.text(x=1.1,y=fifa.GoalsScored.quantile(0.75), s='Q3')\n",
        "plt.text(x=1.1,y=fifa['GoalsScored'].max(), s='max')\n",
        "\n",
        "plt.title('Boxplot of GoalsScored')\n",
        "plt.ylabel('Goals')\n",
        "plt.show()"
      ]
    },
    {
      "cell_type": "code",
      "execution_count": null,
      "metadata": {
        "id": "c1whrtaPa85H",
        "colab": {
          "base_uri": "https://localhost:8080/"
        },
        "outputId": "f8cf2de2-ab21-4e18-82bb-6e5e45bf8af7"
      },
      "outputs": [
        {
          "output_type": "stream",
          "name": "stdout",
          "text": [
            "Year              38.00\n",
            "GoalsScored       56.25\n",
            "QualifiedTeams    10.00\n",
            "MatchesPlayed     24.50\n",
            "dtype: float64\n"
          ]
        }
      ],
      "source": [
        "# write the appropriate variable name\n",
        "\n",
        "Q1 = fifa.quantile(0.25)\n",
        "Q3 = fifa.quantile(0.75)\n",
        "IQR = Q3 - Q1\n",
        "print(IQR)"
      ]
    },
    {
      "cell_type": "markdown",
      "metadata": {
        "id": "MYIDYxo7a85I"
      },
      "source": [
        "#### Write your Answer here: \n"
      ]
    },
    {
      "cell_type": "raw",
      "metadata": {
        "id": "PCwKhprZa85I"
      },
      "source": [
        "Ans 19:"
      ]
    },
    {
      "cell_type": "markdown",
      "metadata": {
        "id": "_2IVn-pTa85I"
      },
      "source": [
        "## Q 20. Find and visualize the correlation relation among numeric variables"
      ]
    },
    {
      "cell_type": "code",
      "execution_count": null,
      "metadata": {
        "id": "jMRmfteLa85I",
        "colab": {
          "base_uri": "https://localhost:8080/",
          "height": 175
        },
        "outputId": "82456f83-2b7e-499a-94ed-b06212530940"
      },
      "outputs": [
        {
          "output_type": "execute_result",
          "data": {
            "text/plain": [
              "                    Year  GoalsScored  QualifiedTeams  MatchesPlayed\n",
              "Year            1.000000     0.829886        0.895565       0.972473\n",
              "GoalsScored     0.829886     1.000000        0.866201       0.876201\n",
              "QualifiedTeams  0.895565     0.866201        1.000000       0.949164\n",
              "MatchesPlayed   0.972473     0.876201        0.949164       1.000000"
            ],
            "text/html": [
              "\n",
              "  <div id=\"df-3768a835-f318-48ef-803a-9d8613c4a1b1\">\n",
              "    <div class=\"colab-df-container\">\n",
              "      <div>\n",
              "<style scoped>\n",
              "    .dataframe tbody tr th:only-of-type {\n",
              "        vertical-align: middle;\n",
              "    }\n",
              "\n",
              "    .dataframe tbody tr th {\n",
              "        vertical-align: top;\n",
              "    }\n",
              "\n",
              "    .dataframe thead th {\n",
              "        text-align: right;\n",
              "    }\n",
              "</style>\n",
              "<table border=\"1\" class=\"dataframe\">\n",
              "  <thead>\n",
              "    <tr style=\"text-align: right;\">\n",
              "      <th></th>\n",
              "      <th>Year</th>\n",
              "      <th>GoalsScored</th>\n",
              "      <th>QualifiedTeams</th>\n",
              "      <th>MatchesPlayed</th>\n",
              "    </tr>\n",
              "  </thead>\n",
              "  <tbody>\n",
              "    <tr>\n",
              "      <th>Year</th>\n",
              "      <td>1.000000</td>\n",
              "      <td>0.829886</td>\n",
              "      <td>0.895565</td>\n",
              "      <td>0.972473</td>\n",
              "    </tr>\n",
              "    <tr>\n",
              "      <th>GoalsScored</th>\n",
              "      <td>0.829886</td>\n",
              "      <td>1.000000</td>\n",
              "      <td>0.866201</td>\n",
              "      <td>0.876201</td>\n",
              "    </tr>\n",
              "    <tr>\n",
              "      <th>QualifiedTeams</th>\n",
              "      <td>0.895565</td>\n",
              "      <td>0.866201</td>\n",
              "      <td>1.000000</td>\n",
              "      <td>0.949164</td>\n",
              "    </tr>\n",
              "    <tr>\n",
              "      <th>MatchesPlayed</th>\n",
              "      <td>0.972473</td>\n",
              "      <td>0.876201</td>\n",
              "      <td>0.949164</td>\n",
              "      <td>1.000000</td>\n",
              "    </tr>\n",
              "  </tbody>\n",
              "</table>\n",
              "</div>\n",
              "      <button class=\"colab-df-convert\" onclick=\"convertToInteractive('df-3768a835-f318-48ef-803a-9d8613c4a1b1')\"\n",
              "              title=\"Convert this dataframe to an interactive table.\"\n",
              "              style=\"display:none;\">\n",
              "        \n",
              "  <svg xmlns=\"http://www.w3.org/2000/svg\" height=\"24px\"viewBox=\"0 0 24 24\"\n",
              "       width=\"24px\">\n",
              "    <path d=\"M0 0h24v24H0V0z\" fill=\"none\"/>\n",
              "    <path d=\"M18.56 5.44l.94 2.06.94-2.06 2.06-.94-2.06-.94-.94-2.06-.94 2.06-2.06.94zm-11 1L8.5 8.5l.94-2.06 2.06-.94-2.06-.94L8.5 2.5l-.94 2.06-2.06.94zm10 10l.94 2.06.94-2.06 2.06-.94-2.06-.94-.94-2.06-.94 2.06-2.06.94z\"/><path d=\"M17.41 7.96l-1.37-1.37c-.4-.4-.92-.59-1.43-.59-.52 0-1.04.2-1.43.59L10.3 9.45l-7.72 7.72c-.78.78-.78 2.05 0 2.83L4 21.41c.39.39.9.59 1.41.59.51 0 1.02-.2 1.41-.59l7.78-7.78 2.81-2.81c.8-.78.8-2.07 0-2.86zM5.41 20L4 18.59l7.72-7.72 1.47 1.35L5.41 20z\"/>\n",
              "  </svg>\n",
              "      </button>\n",
              "      \n",
              "  <style>\n",
              "    .colab-df-container {\n",
              "      display:flex;\n",
              "      flex-wrap:wrap;\n",
              "      gap: 12px;\n",
              "    }\n",
              "\n",
              "    .colab-df-convert {\n",
              "      background-color: #E8F0FE;\n",
              "      border: none;\n",
              "      border-radius: 50%;\n",
              "      cursor: pointer;\n",
              "      display: none;\n",
              "      fill: #1967D2;\n",
              "      height: 32px;\n",
              "      padding: 0 0 0 0;\n",
              "      width: 32px;\n",
              "    }\n",
              "\n",
              "    .colab-df-convert:hover {\n",
              "      background-color: #E2EBFA;\n",
              "      box-shadow: 0px 1px 2px rgba(60, 64, 67, 0.3), 0px 1px 3px 1px rgba(60, 64, 67, 0.15);\n",
              "      fill: #174EA6;\n",
              "    }\n",
              "\n",
              "    [theme=dark] .colab-df-convert {\n",
              "      background-color: #3B4455;\n",
              "      fill: #D2E3FC;\n",
              "    }\n",
              "\n",
              "    [theme=dark] .colab-df-convert:hover {\n",
              "      background-color: #434B5C;\n",
              "      box-shadow: 0px 1px 3px 1px rgba(0, 0, 0, 0.15);\n",
              "      filter: drop-shadow(0px 1px 2px rgba(0, 0, 0, 0.3));\n",
              "      fill: #FFFFFF;\n",
              "    }\n",
              "  </style>\n",
              "\n",
              "      <script>\n",
              "        const buttonEl =\n",
              "          document.querySelector('#df-3768a835-f318-48ef-803a-9d8613c4a1b1 button.colab-df-convert');\n",
              "        buttonEl.style.display =\n",
              "          google.colab.kernel.accessAllowed ? 'block' : 'none';\n",
              "\n",
              "        async function convertToInteractive(key) {\n",
              "          const element = document.querySelector('#df-3768a835-f318-48ef-803a-9d8613c4a1b1');\n",
              "          const dataTable =\n",
              "            await google.colab.kernel.invokeFunction('convertToInteractive',\n",
              "                                                     [key], {});\n",
              "          if (!dataTable) return;\n",
              "\n",
              "          const docLinkHtml = 'Like what you see? Visit the ' +\n",
              "            '<a target=\"_blank\" href=https://colab.research.google.com/notebooks/data_table.ipynb>data table notebook</a>'\n",
              "            + ' to learn more about interactive tables.';\n",
              "          element.innerHTML = '';\n",
              "          dataTable['output_type'] = 'display_data';\n",
              "          await google.colab.output.renderOutput(dataTable, element);\n",
              "          const docLink = document.createElement('div');\n",
              "          docLink.innerHTML = docLinkHtml;\n",
              "          element.appendChild(docLink);\n",
              "        }\n",
              "      </script>\n",
              "    </div>\n",
              "  </div>\n",
              "  "
            ]
          },
          "metadata": {},
          "execution_count": 42
        }
      ],
      "source": [
        "# write the appropriate function name in the blank space and run the code\n",
        "corr_matrix = fifa.corr()\n",
        "\n",
        "corr_matrix"
      ]
    },
    {
      "cell_type": "code",
      "execution_count": null,
      "metadata": {
        "id": "aBVgPjY3a85J",
        "colab": {
          "base_uri": "https://localhost:8080/",
          "height": 336
        },
        "outputId": "3c516ca2-b99b-40a7-8054-0db0e1e29fa6"
      },
      "outputs": [
        {
          "output_type": "display_data",
          "data": {
            "text/plain": [
              "<Figure size 432x288 with 2 Axes>"
            ],
            "image/png": "[encoded data removed]"
          },
          "metadata": {
            "needs_background": "light"
          }
        }
      ],
      "source": [
        "# write the appropriate plot name in the blank space\n",
        "sns.heatmap(corr_matrix, annot = True)\n",
        "\n",
        "# display the plot\n",
        "plt.show()"
      ]
    },
    {
      "cell_type": "markdown",
      "metadata": {
        "id": "8TBq53vxa85J"
      },
      "source": [
        "#### Write your Answer here: \n"
      ]
    },
    {
      "cell_type": "raw",
      "metadata": {
        "id": "zCfh5_cxa85J"
      },
      "source": [
        "Ans 20:"
      ]
    }
  ],
  "metadata": {
    "colab": {
      "collapsed_sections": [
        "jol5TaVOa85B",
        "4h3OzGZ2a85C",
        "_zyO9hQra85D",
        "bgYP4sGra85G",
        "MYIDYxo7a85I",
        "8TBq53vxa85J"
      ],
      "provenance": [],
      "include_colab_link": true
    },
    "kernelspec": {
      "display_name": "Python 3 (ipykernel)",
      "language": "python",
      "name": "python3"
    },
    "language_info": {
      "codemirror_mode": {
        "name": "ipython",
        "version": 3
      },
      "file_extension": ".py",
      "mimetype": "text/x-python",
      "name": "python",
      "nbconvert_exporter": "python",
      "pygments_lexer": "ipython3",
      "version": "3.9.7"
    },
    "toc": {
      "base_numbering": 1,
      "nav_menu": {},
      "number_sections": true,
      "sideBar": true,
      "skip_h1_title": false,
      "title_cell": "Table of Contents",
      "title_sidebar": "Contents",
      "toc_cell": false,
      "toc_position": {},
      "toc_section_display": true,
      "toc_window_display": false
    },
    "varInspector": {
      "cols": {
        "lenName": 16,
        "lenType": 16,
        "lenVar": 40
      },
      "kernels_config": {
        "python": {
          "delete_cmd_postfix": "",
          "delete_cmd_prefix": "del ",
          "library": "var_list.py",
          "varRefreshCmd": "print(var_dic_list())"
        },
        "r": {
          "delete_cmd_postfix": ") ",
          "delete_cmd_prefix": "rm(",
          "library": "var_list.r",
          "varRefreshCmd": "cat(var_dic_list()) "
        }
      },
      "types_to_exclude": [
        "module",
        "function",
        "builtin_function_or_method",
        "instance",
        "_Feature"
      ],
      "window_display": false
    }
  },
  "nbformat": 4,
  "nbformat_minor": 0
}